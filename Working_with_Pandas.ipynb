{
  "nbformat": 4,
  "nbformat_minor": 0,
  "metadata": {
    "colab": {
      "name": "Working with Pandas.ipynb",
      "provenance": []
    },
    "kernelspec": {
      "name": "python3",
      "display_name": "Python 3"
    }
  },
  "cells": [
    {
      "cell_type": "code",
      "metadata": {
        "id": "X8JbZ_kBqwZk"
      },
      "source": [
        "import numpy as np\r\n",
        "import pandas as pd\r\n"
      ],
      "execution_count": 2,
      "outputs": []
    },
    {
      "cell_type": "markdown",
      "metadata": {
        "id": "9d62QS8r_6s9"
      },
      "source": [
        "**import dade az URL**"
      ]
    },
    {
      "cell_type": "code",
      "metadata": {
        "id": "FBP45ALrq3dN"
      },
      "source": [
        "URL =\"https://archive.ics.uci.edu/ml/machine-learning-databases/iris/iris.data\"\r\n",
        "df =pd.read_csv(URL, names = ['sepal_length', 'sepal_width', 'petal_length', 'petal_width', 'class'])"
      ],
      "execution_count": 2,
      "outputs": []
    },
    {
      "cell_type": "code",
      "metadata": {
        "colab": {
          "base_uri": "https://localhost:8080/"
        },
        "id": "UgvCc-D7vIbl",
        "outputId": "76e32de4-ce08-448e-b564-5f3ced9ec7dc"
      },
      "source": [
        "print(df.info())"
      ],
      "execution_count": 3,
      "outputs": [
        {
          "output_type": "stream",
          "text": [
            "<class 'pandas.core.frame.DataFrame'>\n",
            "RangeIndex: 150 entries, 0 to 149\n",
            "Data columns (total 5 columns):\n",
            " #   Column        Non-Null Count  Dtype  \n",
            "---  ------        --------------  -----  \n",
            " 0   sepal_length  150 non-null    float64\n",
            " 1   sepal_width   150 non-null    float64\n",
            " 2   petal_length  150 non-null    float64\n",
            " 3   petal_width   150 non-null    float64\n",
            " 4   class         150 non-null    object \n",
            "dtypes: float64(4), object(1)\n",
            "memory usage: 6.0+ KB\n",
            "None\n"
          ],
          "name": "stdout"
        }
      ]
    },
    {
      "cell_type": "markdown",
      "metadata": {
        "id": "2OKbPZ8c_d0v"
      },
      "source": [
        "**kholase amari ra moshahede**"
      ]
    },
    {
      "cell_type": "code",
      "metadata": {
        "colab": {
          "base_uri": "https://localhost:8080/"
        },
        "id": "r7jlbhvj_Hnh",
        "outputId": "bf25151c-3f20-42c9-f560-5fbe67741dfe"
      },
      "source": [
        "print(df.describe())"
      ],
      "execution_count": 4,
      "outputs": [
        {
          "output_type": "stream",
          "text": [
            "       sepal_length  sepal_width  petal_length  petal_width\n",
            "count    150.000000   150.000000    150.000000   150.000000\n",
            "mean       5.843333     3.054000      3.758667     1.198667\n",
            "std        0.828066     0.433594      1.764420     0.763161\n",
            "min        4.300000     2.000000      1.000000     0.100000\n",
            "25%        5.100000     2.800000      1.600000     0.300000\n",
            "50%        5.800000     3.000000      4.350000     1.300000\n",
            "75%        6.400000     3.300000      5.100000     1.800000\n",
            "max        7.900000     4.400000      6.900000     2.500000\n"
          ],
          "name": "stdout"
        }
      ]
    },
    {
      "cell_type": "markdown",
      "metadata": {
        "id": "uT2giWEA_YnS"
      },
      "source": [
        "**10 dade aval ra moshahede konim.**"
      ]
    },
    {
      "cell_type": "code",
      "metadata": {
        "colab": {
          "base_uri": "https://localhost:8080/"
        },
        "id": "vmJnGpux_Qxa",
        "outputId": "8aac7070-cdf2-47ce-fd45-14c2b0d27c9f"
      },
      "source": [
        "print(df.head(10))"
      ],
      "execution_count": 5,
      "outputs": [
        {
          "output_type": "stream",
          "text": [
            "   sepal_length  sepal_width  petal_length  petal_width        class\n",
            "0           5.1          3.5           1.4          0.2  Iris-setosa\n",
            "1           4.9          3.0           1.4          0.2  Iris-setosa\n",
            "2           4.7          3.2           1.3          0.2  Iris-setosa\n",
            "3           4.6          3.1           1.5          0.2  Iris-setosa\n",
            "4           5.0          3.6           1.4          0.2  Iris-setosa\n",
            "5           5.4          3.9           1.7          0.4  Iris-setosa\n",
            "6           4.6          3.4           1.4          0.3  Iris-setosa\n",
            "7           5.0          3.4           1.5          0.2  Iris-setosa\n",
            "8           4.4          2.9           1.4          0.2  Iris-setosa\n",
            "9           4.9          3.1           1.5          0.1  Iris-setosa\n"
          ],
          "name": "stdout"
        }
      ]
    },
    {
      "cell_type": "markdown",
      "metadata": {
        "id": "5UXzaf1_APCG"
      },
      "source": [
        "**select rows with sepal_length greater than 5.0**"
      ]
    },
    {
      "cell_type": "code",
      "metadata": {
        "colab": {
          "base_uri": "https://localhost:8080/"
        },
        "id": "djXtL4koAWte",
        "outputId": "a61ded23-4b85-4e9c-c717-3dc3feabdb61"
      },
      "source": [
        "df2 = df.loc[df['sepal_length']>5.0]\r\n",
        "print(df2.head(10))"
      ],
      "execution_count": 6,
      "outputs": [
        {
          "output_type": "stream",
          "text": [
            "    sepal_length  sepal_width  petal_length  petal_width        class\n",
            "0            5.1          3.5           1.4          0.2  Iris-setosa\n",
            "5            5.4          3.9           1.7          0.4  Iris-setosa\n",
            "10           5.4          3.7           1.5          0.2  Iris-setosa\n",
            "14           5.8          4.0           1.2          0.2  Iris-setosa\n",
            "15           5.7          4.4           1.5          0.4  Iris-setosa\n",
            "16           5.4          3.9           1.3          0.4  Iris-setosa\n",
            "17           5.1          3.5           1.4          0.3  Iris-setosa\n",
            "18           5.7          3.8           1.7          0.3  Iris-setosa\n",
            "19           5.1          3.8           1.5          0.3  Iris-setosa\n",
            "20           5.4          3.4           1.7          0.2  Iris-setosa\n"
          ],
          "name": "stdout"
        }
      ]
    },
    {
      "cell_type": "code",
      "metadata": {
        "colab": {
          "base_uri": "https://localhost:8080/"
        },
        "id": "rZobltIj9cqz",
        "outputId": "b55273ba-f89b-4693-ad9b-3f95aac45c77"
      },
      "source": [
        "df3 = df.loc[df['petal_length'] >6.0]\r\n",
        "print(df3.head())"
      ],
      "execution_count": 7,
      "outputs": [
        {
          "output_type": "stream",
          "text": [
            "     sepal_length  sepal_width  petal_length  petal_width           class\n",
            "105           7.6          3.0           6.6          2.1  Iris-virginica\n",
            "107           7.3          2.9           6.3          1.8  Iris-virginica\n",
            "109           7.2          3.6           6.1          2.5  Iris-virginica\n",
            "117           7.7          3.8           6.7          2.2  Iris-virginica\n",
            "118           7.7          2.6           6.9          2.3  Iris-virginica\n"
          ],
          "name": "stdout"
        }
      ]
    },
    {
      "cell_type": "markdown",
      "metadata": {
        "id": "ySquMvlr9pwi"
      },
      "source": [
        "**Data visualization in Pandas**"
      ]
    },
    {
      "cell_type": "code",
      "metadata": {
        "colab": {
          "base_uri": "https://localhost:8080/",
          "height": 459
        },
        "id": "YgwySjoN9tJ7",
        "outputId": "3a00bb51-db9c-4c6b-ddfd-b04f2cbc7684"
      },
      "source": [
        "#Define  marker shapes by class\r\n",
        "import matplotlib.pyplot as plt\r\n",
        "marker_shapes = ['.','^','*']\r\n",
        "#Then plot the scatterplot\r\n",
        "ax = plt.axes()\r\n",
        "for i, species in enumerate(df['class'].unique()):\r\n",
        "  species_data = df[df['class']== species]\r\n",
        "  species_data.plot.scatter(x='sepal_length',\r\n",
        "                            y = 'sepal_width',\r\n",
        "                            marker = marker_shapes[i],\r\n",
        "                            s=100,\r\n",
        "                            title = \"sepal Width vs Length by Species\",\r\n",
        "                            label = species,\r\n",
        "                            figsize = (10,7),\r\n",
        "                            ax = ax)"
      ],
      "execution_count": 8,
      "outputs": [
        {
          "output_type": "display_data",
          "data": {
            "image/png": "[encoded data removed]",
            "text/plain": [
              "<Figure size 720x504 with 1 Axes>"
            ]
          },
          "metadata": {
            "tags": [],
            "needs_background": "light"
          }
        }
      ]
    },
    {
      "cell_type": "code",
      "metadata": {
        "colab": {
          "base_uri": "https://localhost:8080/",
          "height": 459
        },
        "id": "emAv1ctj_9JT",
        "outputId": "4f45b38f-0203-4c6b-c311-a453e941f04f"
      },
      "source": [
        "import matplotlib.pyplot as plt\r\n",
        "marker_shapes = ['.','*','^']\r\n",
        "ax = plt.axes()\r\n",
        "for i, species in enumerate(df['class'].unique()):\r\n",
        "  species_data = df[df['class'] == species]\r\n",
        "  species_data.plot.scatter( x ='petal_length', \r\n",
        "                            y ='petal_width',\r\n",
        "                            marker = marker_shapes[i],\r\n",
        "                            s = 100,\r\n",
        "                            title = \"petal Width vs Length by Species\",\r\n",
        "                            label = species,\r\n",
        "                            figsize = (10,7),\r\n",
        "                            ax = ax)\r\n",
        "                            "
      ],
      "execution_count": 9,
      "outputs": [
        {
          "output_type": "display_data",
          "data": {
            "image/png": "[encoded data removed]",
            "text/plain": [
              "<Figure size 720x504 with 1 Axes>"
            ]
          },
          "metadata": {
            "tags": [],
            "needs_background": "light"
          }
        }
      ]
    },
    {
      "cell_type": "markdown",
      "metadata": {
        "id": "UnxGKHd-JLud"
      },
      "source": [
        "**Plot Histogram**\r\n"
      ]
    },
    {
      "cell_type": "code",
      "metadata": {
        "colab": {
          "base_uri": "https://localhost:8080/",
          "height": 298
        },
        "id": "M-mZ8ObfJQNw",
        "outputId": "30208c8c-2fad-46e7-b9f1-192f3db13dbf"
      },
      "source": [
        "df['petal_length'].plot.hist(title='Histogram of Petal Length')"
      ],
      "execution_count": 10,
      "outputs": [
        {
          "output_type": "execute_result",
          "data": {
            "text/plain": [
              "<matplotlib.axes._subplots.AxesSubplot at 0x7f74452e2eb8>"
            ]
          },
          "metadata": {
            "tags": []
          },
          "execution_count": 10
        },
        {
          "output_type": "display_data",
          "data": {
            "image/png": "[encoded data removed]",
            "text/plain": [
              "<Figure size 432x288 with 1 Axes>"
            ]
          },
          "metadata": {
            "tags": [],
            "needs_background": "light"
          }
        }
      ]
    },
    {
      "cell_type": "markdown",
      "metadata": {
        "id": "dgG9jcATKBCa"
      },
      "source": [
        "**Plot Boxplot**"
      ]
    },
    {
      "cell_type": "code",
      "metadata": {
        "colab": {
          "base_uri": "https://localhost:8080/",
          "height": 299
        },
        "id": "GVEkVvTAKFIP",
        "outputId": "bbc468d3-1e83-418f-deab-ce2d73cf5404"
      },
      "source": [
        "df.plot.box(title = 'Boxplot of Sepal Length and width, and Petal Length and width')"
      ],
      "execution_count": 11,
      "outputs": [
        {
          "output_type": "execute_result",
          "data": {
            "text/plain": [
              "<matplotlib.axes._subplots.AxesSubplot at 0x7f74450d15f8>"
            ]
          },
          "metadata": {
            "tags": []
          },
          "execution_count": 11
        },
        {
          "output_type": "display_data",
          "data": {
            "image/png": "[encoded data removed]",
            "text/plain": [
              "<Figure size 432x288 with 1 Axes>"
            ]
          },
          "metadata": {
            "tags": [],
            "needs_background": "light"
          }
        }
      ]
    },
    {
      "cell_type": "markdown",
      "metadata": {
        "id": "tn00Hp7cM61t"
      },
      "source": [
        "**Data preprocessing in Pandas**\r\n",
        "\r\n",
        "\r\n",
        "\r\n",
        "\r\n"
      ]
    },
    {
      "cell_type": "markdown",
      "metadata": {
        "id": "woZ8BAIBOfXX"
      },
      "source": [
        "1-Encoding categorical variables: Gender, Day, Country ..."
      ]
    },
    {
      "cell_type": "code",
      "metadata": {
        "colab": {
          "base_uri": "https://localhost:8080/"
        },
        "id": "ZFHgIKhmOgTu",
        "outputId": "026acc71-5aa8-45d1-9879-4aae5eb6e116"
      },
      "source": [
        "df4 = pd.DataFrame({'Day': ['Monday', 'Tuesday', 'Wednesday', 'Thursday', 'Friday', 'Saturday', 'Sunday']})\r\n",
        "print(pd.get_dummies(df4))"
      ],
      "execution_count": 15,
      "outputs": [
        {
          "output_type": "stream",
          "text": [
            "   Day_Friday  Day_Monday  ...  Day_Tuesday  Day_Wednesday\n",
            "0           0           1  ...            0              0\n",
            "1           0           0  ...            1              0\n",
            "2           0           0  ...            0              1\n",
            "3           0           0  ...            0              0\n",
            "4           1           0  ...            0              0\n",
            "5           0           0  ...            0              0\n",
            "6           0           0  ...            0              0\n",
            "\n",
            "[7 rows x 7 columns]\n"
          ],
          "name": "stdout"
        }
      ]
    },
    {
      "cell_type": "markdown",
      "metadata": {
        "id": "oYWDTFPsRaXm"
      },
      "source": [
        "2-Imputing missing values"
      ]
    },
    {
      "cell_type": "code",
      "metadata": {
        "colab": {
          "base_uri": "https://localhost:8080/"
        },
        "id": "19tn9CXTRkJA",
        "outputId": "c9bbdc2f-36b2-4fd1-cfc1-626c676d881c"
      },
      "source": [
        "URL =\"https://archive.ics.uci.edu/ml/machine-learning-databases/iris/iris.data\"\r\n",
        "df5 =pd.read_csv(URL, names = ['sepal_length', 'sepal_width', 'petal_length', 'petal_width', 'class'])\r\n",
        "# randomly select 10 rows\r\n",
        "random_index = np.random.choice(df5.index, replace = False, size = 10)\r\n",
        "# set the sepal length values of these rows to be None\r\n",
        "df5.loc[random_index, 'sepal_length']= None\r\n",
        "print(df5.isnull().any())"
      ],
      "execution_count": 10,
      "outputs": [
        {
          "output_type": "stream",
          "text": [
            "sepal_length     True\n",
            "sepal_width     False\n",
            "petal_length    False\n",
            "petal_width     False\n",
            "class           False\n",
            "dtype: bool\n"
          ],
          "name": "stdout"
        }
      ]
    },
    {
      "cell_type": "code",
      "metadata": {
        "colab": {
          "base_uri": "https://localhost:8080/"
        },
        "id": "4EVHQwSQcDcB",
        "outputId": "578e0ad9-61ca-4258-c06c-7243e636a6c6"
      },
      "source": [
        "print(\"number of rows before deleting: %d\" % (df5.shape[0]))\r\n",
        "df5 = df5.dropna()\r\n",
        "print(\"number of rows after deleting: %d\" % (df5.shape[0]))"
      ],
      "execution_count": 9,
      "outputs": [
        {
          "output_type": "stream",
          "text": [
            "number of rows before deleting: 150\n",
            "number of rows after deleting: 140\n"
          ],
          "name": "stdout"
        }
      ]
    },
    {
      "cell_type": "code",
      "metadata": {
        "colab": {
          "base_uri": "https://localhost:8080/"
        },
        "id": "XJXF0yAFdYLr",
        "outputId": "f5e8ae2d-ae7e-469f-a095-3a341476e3ed"
      },
      "source": [
        "#another way is to replace the missing value with the mean of the non_missing values\r\n",
        "df5.sepal_length = df5.sepal_length.fillna(df5.sepal_length.mean())\r\n",
        "print(df5.isnull().any())"
      ],
      "execution_count": 13,
      "outputs": [
        {
          "output_type": "stream",
          "text": [
            "sepal_length    False\n",
            "sepal_width     False\n",
            "petal_length    False\n",
            "petal_width     False\n",
            "class           False\n",
            "dtype: bool\n"
          ],
          "name": "stdout"
        }
      ]
    },
    {
      "cell_type": "code",
      "metadata": {
        "id": "82_-xB8ZeavO"
      },
      "source": [
        ""
      ],
      "execution_count": null,
      "outputs": []
    }
  ]
}